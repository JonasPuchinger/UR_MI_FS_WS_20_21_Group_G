{
 "cells": [
  {
   "cell_type": "code",
   "execution_count": 10,
   "metadata": {
    "collapsed": true
   },
   "outputs": [],
   "source": [
    "import seaborn as sns\n",
    "import matplotlib.pyplot as plt\n",
    "import pandas as pd\n",
    "from cycler import cycler"
   ]
  },
  {
   "cell_type": "markdown",
   "source": [
    "# Prepare data"
   ],
   "metadata": {
    "collapsed": false
   }
  },
  {
   "cell_type": "code",
   "execution_count": 11,
   "outputs": [
    {
     "ename": "FileNotFoundError",
     "evalue": "[Errno 2] No such file or directory: '../dataset_description/annotation/covid_tweets_annotation.csv'",
     "output_type": "error",
     "traceback": [
      "\u001B[1;31m---------------------------------------------------------------------------\u001B[0m",
      "\u001B[1;31mFileNotFoundError\u001B[0m                         Traceback (most recent call last)",
      "\u001B[1;32m<ipython-input-11-194ad4d4b394>\u001B[0m in \u001B[0;36m<module>\u001B[1;34m\u001B[0m\n\u001B[0;32m      1\u001B[0m \u001B[1;31m# COVID-tweets\u001B[0m\u001B[1;33m\u001B[0m\u001B[1;33m\u001B[0m\u001B[1;33m\u001B[0m\u001B[0m\n\u001B[1;32m----> 2\u001B[1;33m \u001B[0mdf_covid_tweets_annotation\u001B[0m \u001B[1;33m=\u001B[0m \u001B[0mpd\u001B[0m\u001B[1;33m.\u001B[0m\u001B[0mread_csv\u001B[0m\u001B[1;33m(\u001B[0m\u001B[1;34m'../dataset_description/annotation/covid_tweets_annotation.csv'\u001B[0m\u001B[1;33m)\u001B[0m\u001B[1;33m\u001B[0m\u001B[1;33m\u001B[0m\u001B[0m\n\u001B[0m\u001B[0;32m      3\u001B[0m \u001B[0mdf_covid_tweets_annotation\u001B[0m  \u001B[1;33m=\u001B[0m \u001B[0mdf_covid_tweets_annotation\u001B[0m\u001B[1;33m.\u001B[0m\u001B[0mcopy\u001B[0m\u001B[1;33m(\u001B[0m\u001B[1;33m)\u001B[0m\u001B[1;33m\u001B[0m\u001B[1;33m\u001B[0m\u001B[0m\n\u001B[0;32m      4\u001B[0m \u001B[0mdf_covid_tweets_annotation\u001B[0m  \u001B[1;33m=\u001B[0m \u001B[0mdf_covid_tweets_annotation\u001B[0m \u001B[1;33m.\u001B[0m\u001B[0mdrop\u001B[0m\u001B[1;33m(\u001B[0m\u001B[1;33m[\u001B[0m\u001B[1;34m'tweet_id'\u001B[0m\u001B[1;33m,\u001B[0m \u001B[1;34m'tweet_content'\u001B[0m\u001B[1;33m,\u001B[0m \u001B[1;34m'annotation_qualifier'\u001B[0m\u001B[1;33m]\u001B[0m\u001B[1;33m,\u001B[0m \u001B[0maxis\u001B[0m\u001B[1;33m=\u001B[0m\u001B[1;34m'columns'\u001B[0m\u001B[1;33m)\u001B[0m\u001B[1;33m\u001B[0m\u001B[1;33m\u001B[0m\u001B[0m\n\u001B[0;32m      5\u001B[0m \u001B[1;33m\u001B[0m\u001B[0m\n",
      "\u001B[1;32mc:\\users\\sánchez\\appdata\\local\\programs\\python\\python38\\lib\\site-packages\\pandas\\io\\parsers.py\u001B[0m in \u001B[0;36mread_csv\u001B[1;34m(filepath_or_buffer, sep, delimiter, header, names, index_col, usecols, squeeze, prefix, mangle_dupe_cols, dtype, engine, converters, true_values, false_values, skipinitialspace, skiprows, skipfooter, nrows, na_values, keep_default_na, na_filter, verbose, skip_blank_lines, parse_dates, infer_datetime_format, keep_date_col, date_parser, dayfirst, cache_dates, iterator, chunksize, compression, thousands, decimal, lineterminator, quotechar, quoting, doublequote, escapechar, comment, encoding, dialect, error_bad_lines, warn_bad_lines, delim_whitespace, low_memory, memory_map, float_precision, storage_options)\u001B[0m\n\u001B[0;32m    603\u001B[0m     \u001B[0mkwds\u001B[0m\u001B[1;33m.\u001B[0m\u001B[0mupdate\u001B[0m\u001B[1;33m(\u001B[0m\u001B[0mkwds_defaults\u001B[0m\u001B[1;33m)\u001B[0m\u001B[1;33m\u001B[0m\u001B[1;33m\u001B[0m\u001B[0m\n\u001B[0;32m    604\u001B[0m \u001B[1;33m\u001B[0m\u001B[0m\n\u001B[1;32m--> 605\u001B[1;33m     \u001B[1;32mreturn\u001B[0m \u001B[0m_read\u001B[0m\u001B[1;33m(\u001B[0m\u001B[0mfilepath_or_buffer\u001B[0m\u001B[1;33m,\u001B[0m \u001B[0mkwds\u001B[0m\u001B[1;33m)\u001B[0m\u001B[1;33m\u001B[0m\u001B[1;33m\u001B[0m\u001B[0m\n\u001B[0m\u001B[0;32m    606\u001B[0m \u001B[1;33m\u001B[0m\u001B[0m\n\u001B[0;32m    607\u001B[0m \u001B[1;33m\u001B[0m\u001B[0m\n",
      "\u001B[1;32mc:\\users\\sánchez\\appdata\\local\\programs\\python\\python38\\lib\\site-packages\\pandas\\io\\parsers.py\u001B[0m in \u001B[0;36m_read\u001B[1;34m(filepath_or_buffer, kwds)\u001B[0m\n\u001B[0;32m    455\u001B[0m \u001B[1;33m\u001B[0m\u001B[0m\n\u001B[0;32m    456\u001B[0m     \u001B[1;31m# Create the parser.\u001B[0m\u001B[1;33m\u001B[0m\u001B[1;33m\u001B[0m\u001B[1;33m\u001B[0m\u001B[0m\n\u001B[1;32m--> 457\u001B[1;33m     \u001B[0mparser\u001B[0m \u001B[1;33m=\u001B[0m \u001B[0mTextFileReader\u001B[0m\u001B[1;33m(\u001B[0m\u001B[0mfilepath_or_buffer\u001B[0m\u001B[1;33m,\u001B[0m \u001B[1;33m**\u001B[0m\u001B[0mkwds\u001B[0m\u001B[1;33m)\u001B[0m\u001B[1;33m\u001B[0m\u001B[1;33m\u001B[0m\u001B[0m\n\u001B[0m\u001B[0;32m    458\u001B[0m \u001B[1;33m\u001B[0m\u001B[0m\n\u001B[0;32m    459\u001B[0m     \u001B[1;32mif\u001B[0m \u001B[0mchunksize\u001B[0m \u001B[1;32mor\u001B[0m \u001B[0miterator\u001B[0m\u001B[1;33m:\u001B[0m\u001B[1;33m\u001B[0m\u001B[1;33m\u001B[0m\u001B[0m\n",
      "\u001B[1;32mc:\\users\\sánchez\\appdata\\local\\programs\\python\\python38\\lib\\site-packages\\pandas\\io\\parsers.py\u001B[0m in \u001B[0;36m__init__\u001B[1;34m(self, f, engine, **kwds)\u001B[0m\n\u001B[0;32m    812\u001B[0m             \u001B[0mself\u001B[0m\u001B[1;33m.\u001B[0m\u001B[0moptions\u001B[0m\u001B[1;33m[\u001B[0m\u001B[1;34m\"has_index_names\"\u001B[0m\u001B[1;33m]\u001B[0m \u001B[1;33m=\u001B[0m \u001B[0mkwds\u001B[0m\u001B[1;33m[\u001B[0m\u001B[1;34m\"has_index_names\"\u001B[0m\u001B[1;33m]\u001B[0m\u001B[1;33m\u001B[0m\u001B[1;33m\u001B[0m\u001B[0m\n\u001B[0;32m    813\u001B[0m \u001B[1;33m\u001B[0m\u001B[0m\n\u001B[1;32m--> 814\u001B[1;33m         \u001B[0mself\u001B[0m\u001B[1;33m.\u001B[0m\u001B[0m_engine\u001B[0m \u001B[1;33m=\u001B[0m \u001B[0mself\u001B[0m\u001B[1;33m.\u001B[0m\u001B[0m_make_engine\u001B[0m\u001B[1;33m(\u001B[0m\u001B[0mself\u001B[0m\u001B[1;33m.\u001B[0m\u001B[0mengine\u001B[0m\u001B[1;33m)\u001B[0m\u001B[1;33m\u001B[0m\u001B[1;33m\u001B[0m\u001B[0m\n\u001B[0m\u001B[0;32m    815\u001B[0m \u001B[1;33m\u001B[0m\u001B[0m\n\u001B[0;32m    816\u001B[0m     \u001B[1;32mdef\u001B[0m \u001B[0mclose\u001B[0m\u001B[1;33m(\u001B[0m\u001B[0mself\u001B[0m\u001B[1;33m)\u001B[0m\u001B[1;33m:\u001B[0m\u001B[1;33m\u001B[0m\u001B[1;33m\u001B[0m\u001B[0m\n",
      "\u001B[1;32mc:\\users\\sánchez\\appdata\\local\\programs\\python\\python38\\lib\\site-packages\\pandas\\io\\parsers.py\u001B[0m in \u001B[0;36m_make_engine\u001B[1;34m(self, engine)\u001B[0m\n\u001B[0;32m   1043\u001B[0m             )\n\u001B[0;32m   1044\u001B[0m         \u001B[1;31m# error: Too many arguments for \"ParserBase\"\u001B[0m\u001B[1;33m\u001B[0m\u001B[1;33m\u001B[0m\u001B[1;33m\u001B[0m\u001B[0m\n\u001B[1;32m-> 1045\u001B[1;33m         \u001B[1;32mreturn\u001B[0m \u001B[0mmapping\u001B[0m\u001B[1;33m[\u001B[0m\u001B[0mengine\u001B[0m\u001B[1;33m]\u001B[0m\u001B[1;33m(\u001B[0m\u001B[0mself\u001B[0m\u001B[1;33m.\u001B[0m\u001B[0mf\u001B[0m\u001B[1;33m,\u001B[0m \u001B[1;33m**\u001B[0m\u001B[0mself\u001B[0m\u001B[1;33m.\u001B[0m\u001B[0moptions\u001B[0m\u001B[1;33m)\u001B[0m  \u001B[1;31m# type: ignore[call-arg]\u001B[0m\u001B[1;33m\u001B[0m\u001B[1;33m\u001B[0m\u001B[0m\n\u001B[0m\u001B[0;32m   1046\u001B[0m \u001B[1;33m\u001B[0m\u001B[0m\n\u001B[0;32m   1047\u001B[0m     \u001B[1;32mdef\u001B[0m \u001B[0m_failover_to_python\u001B[0m\u001B[1;33m(\u001B[0m\u001B[0mself\u001B[0m\u001B[1;33m)\u001B[0m\u001B[1;33m:\u001B[0m\u001B[1;33m\u001B[0m\u001B[1;33m\u001B[0m\u001B[0m\n",
      "\u001B[1;32mc:\\users\\sánchez\\appdata\\local\\programs\\python\\python38\\lib\\site-packages\\pandas\\io\\parsers.py\u001B[0m in \u001B[0;36m__init__\u001B[1;34m(self, src, **kwds)\u001B[0m\n\u001B[0;32m   1860\u001B[0m \u001B[1;33m\u001B[0m\u001B[0m\n\u001B[0;32m   1861\u001B[0m         \u001B[1;31m# open handles\u001B[0m\u001B[1;33m\u001B[0m\u001B[1;33m\u001B[0m\u001B[1;33m\u001B[0m\u001B[0m\n\u001B[1;32m-> 1862\u001B[1;33m         \u001B[0mself\u001B[0m\u001B[1;33m.\u001B[0m\u001B[0m_open_handles\u001B[0m\u001B[1;33m(\u001B[0m\u001B[0msrc\u001B[0m\u001B[1;33m,\u001B[0m \u001B[0mkwds\u001B[0m\u001B[1;33m)\u001B[0m\u001B[1;33m\u001B[0m\u001B[1;33m\u001B[0m\u001B[0m\n\u001B[0m\u001B[0;32m   1863\u001B[0m         \u001B[1;32massert\u001B[0m \u001B[0mself\u001B[0m\u001B[1;33m.\u001B[0m\u001B[0mhandles\u001B[0m \u001B[1;32mis\u001B[0m \u001B[1;32mnot\u001B[0m \u001B[1;32mNone\u001B[0m\u001B[1;33m\u001B[0m\u001B[1;33m\u001B[0m\u001B[0m\n\u001B[0;32m   1864\u001B[0m         \u001B[1;32mfor\u001B[0m \u001B[0mkey\u001B[0m \u001B[1;32min\u001B[0m \u001B[1;33m(\u001B[0m\u001B[1;34m\"storage_options\"\u001B[0m\u001B[1;33m,\u001B[0m \u001B[1;34m\"encoding\"\u001B[0m\u001B[1;33m,\u001B[0m \u001B[1;34m\"memory_map\"\u001B[0m\u001B[1;33m,\u001B[0m \u001B[1;34m\"compression\"\u001B[0m\u001B[1;33m)\u001B[0m\u001B[1;33m:\u001B[0m\u001B[1;33m\u001B[0m\u001B[1;33m\u001B[0m\u001B[0m\n",
      "\u001B[1;32mc:\\users\\sánchez\\appdata\\local\\programs\\python\\python38\\lib\\site-packages\\pandas\\io\\parsers.py\u001B[0m in \u001B[0;36m_open_handles\u001B[1;34m(self, src, kwds)\u001B[0m\n\u001B[0;32m   1355\u001B[0m         \u001B[0mLet\u001B[0m \u001B[0mthe\u001B[0m \u001B[0mreaders\u001B[0m \u001B[0mopen\u001B[0m \u001B[0mIOHanldes\u001B[0m \u001B[0mafter\u001B[0m \u001B[0mthey\u001B[0m \u001B[0mare\u001B[0m \u001B[0mdone\u001B[0m \u001B[1;32mwith\u001B[0m \u001B[0mtheir\u001B[0m \u001B[0mpotential\u001B[0m \u001B[0mraises\u001B[0m\u001B[1;33m.\u001B[0m\u001B[1;33m\u001B[0m\u001B[1;33m\u001B[0m\u001B[0m\n\u001B[0;32m   1356\u001B[0m         \"\"\"\n\u001B[1;32m-> 1357\u001B[1;33m         self.handles = get_handle(\n\u001B[0m\u001B[0;32m   1358\u001B[0m             \u001B[0msrc\u001B[0m\u001B[1;33m,\u001B[0m\u001B[1;33m\u001B[0m\u001B[1;33m\u001B[0m\u001B[0m\n\u001B[0;32m   1359\u001B[0m             \u001B[1;34m\"r\"\u001B[0m\u001B[1;33m,\u001B[0m\u001B[1;33m\u001B[0m\u001B[1;33m\u001B[0m\u001B[0m\n",
      "\u001B[1;32mc:\\users\\sánchez\\appdata\\local\\programs\\python\\python38\\lib\\site-packages\\pandas\\io\\common.py\u001B[0m in \u001B[0;36mget_handle\u001B[1;34m(path_or_buf, mode, encoding, compression, memory_map, is_text, errors, storage_options)\u001B[0m\n\u001B[0;32m    640\u001B[0m                 \u001B[0merrors\u001B[0m \u001B[1;33m=\u001B[0m \u001B[1;34m\"replace\"\u001B[0m\u001B[1;33m\u001B[0m\u001B[1;33m\u001B[0m\u001B[0m\n\u001B[0;32m    641\u001B[0m             \u001B[1;31m# Encoding\u001B[0m\u001B[1;33m\u001B[0m\u001B[1;33m\u001B[0m\u001B[1;33m\u001B[0m\u001B[0m\n\u001B[1;32m--> 642\u001B[1;33m             handle = open(\n\u001B[0m\u001B[0;32m    643\u001B[0m                 \u001B[0mhandle\u001B[0m\u001B[1;33m,\u001B[0m\u001B[1;33m\u001B[0m\u001B[1;33m\u001B[0m\u001B[0m\n\u001B[0;32m    644\u001B[0m                 \u001B[0mioargs\u001B[0m\u001B[1;33m.\u001B[0m\u001B[0mmode\u001B[0m\u001B[1;33m,\u001B[0m\u001B[1;33m\u001B[0m\u001B[1;33m\u001B[0m\u001B[0m\n",
      "\u001B[1;31mFileNotFoundError\u001B[0m: [Errno 2] No such file or directory: '../dataset_description/annotation/covid_tweets_annotation.csv'"
     ]
    }
   ],
   "source": [
    "# COVID-tweets\n",
    "df_covid_tweets_annotation = pd.read_csv('covid_tweets_annotation.csv')\n",
    "df_covid_tweets_annotation  = df_covid_tweets_annotation.copy()\n",
    "df_covid_tweets_annotation  = df_covid_tweets_annotation .drop(['tweet_id', 'tweet_content', 'annotation_qualifier'], axis='columns')\n",
    "\n",
    "df_popular_covid_tweets = pd.read_json('../most_popular_covid_tweets.json')\n",
    "df_popular_covid_tweets = df_popular_covid_tweets.drop(['screen_name', 'p_user_id', 'tweet'], axis='columns')\n",
    "\n",
    "df_covid = df_popular_covid_tweets.join(df_covid_tweets_annotation)\n",
    "\n",
    "df_covid_sentiment = df_covid.copy()\n",
    "df_covid_sentiment = df_covid_sentiment.drop(['annotation_emotion'], axis='columns')\n",
    "df_covid_sentiment = df_covid_sentiment.rename(columns={'annotation_sentiment': 'sentiment'})\n",
    "\n",
    "df_covid_emotion = df_covid.copy()\n",
    "df_covid_emotion = df_covid_emotion.drop(['annotation_sentiment'], axis='columns')\n",
    "df_covid_emotion = df_covid_emotion.rename(columns={'annotation_emotion': 'emotion'})\n",
    "\n",
    "# non-COVID-tweets\n",
    "df_non_covid_tweets_annotation = pd.read_csv('non_covid_tweets_annotation.csv')\n",
    "df_non_covid_tweets_annotation  = df_non_covid_tweets_annotation.copy()\n",
    "df_non_covid_tweets_annotation  = df_non_covid_tweets_annotation.drop(['tweet_id', 'tweet_content'], axis='columns')\n",
    "\n",
    "df_popular_non_covid_tweets = pd.read_json('../most_popular_non_covid_tweets.json')\n",
    "df_popular_non_covid_tweets = df_popular_non_covid_tweets.drop(['screen_name', 'p_user_id', 'tweet'], axis='columns')\n",
    "\n",
    "df_non_covid = df_popular_non_covid_tweets.join(df_non_covid_tweets_annotation)\n",
    "\n",
    "df_non_covid_sentiment = df_non_covid.copy()\n",
    "df_non_covid_sentiment = df_non_covid_sentiment.drop(['annotation_emotion'], axis='columns')\n",
    "df_non_covid_sentiment = df_non_covid_sentiment.rename(columns={'annotation_sentiment': 'sentiment'})\n",
    "\n",
    "df_non_covid_emotion = df_non_covid.copy()\n",
    "df_non_covid_emotion = df_non_covid_emotion.drop(['annotation_sentiment'], axis='columns')\n",
    "df_non_covid_emotion = df_non_covid_emotion.rename(columns={'annotation_emotion': 'emotion'})"
   ],
   "metadata": {
    "collapsed": false,
    "pycharm": {
     "name": "#%%\n"
    }
   }
  },
  {
   "cell_type": "markdown",
   "source": [
    "# Evaluation of the qualitative sentiment analysis: COVID-tweets"
   ],
   "metadata": {
    "collapsed": false
   }
  },
  {
   "cell_type": "code",
   "execution_count": null,
   "outputs": [],
   "source": [
    "df_sentiment_overview = df_covid_sentiment.copy()\n",
    "df_sentiment_overview = df_sentiment_overview.groupby('sentiment').count()\n",
    "df_sentiment_overview = df_sentiment_overview.drop(['name'], axis='columns')\n",
    "df_sentiment_overview = df_sentiment_overview.rename(columns={'party': 'count'})\n",
    "print(\"Number of COVID-tweets by category (positive > 0, neutral = 0, negative < 0)\")\n",
    "print(df_sentiment_overview)\n",
    "\n",
    "df_sentiment_per_party = df_covid_sentiment.copy()\n",
    "df_sentiment_per_party = df_sentiment_per_party.groupby(['sentiment', 'party']).count()\n",
    "df_sentiment_per_party = df_sentiment_per_party.rename(columns={'name': 'count'})\n",
    "print(\"Number of COVID-tweets by category (positive > 0, neutral = 0, negative < 0) and party\")\n",
    "print(df_sentiment_per_party)"
   ],
   "metadata": {
    "collapsed": false,
    "pycharm": {
     "name": "#%%\n"
    }
   }
  },
  {
   "cell_type": "markdown",
   "source": [
    "# # Evaluation of the qualitative emotion analysis: COVID-tweets"
   ],
   "metadata": {
    "collapsed": false
   }
  },
  {
   "cell_type": "code",
   "execution_count": null,
   "outputs": [],
   "source": [
    "df_emotion_overview = df_covid_emotion.copy()\n",
    "df_emotion_overview = df_emotion_overview.groupby('emotion').count()\n",
    "df_emotion_overview = df_emotion_overview.drop(['name'], axis='columns')\n",
    "df_emotion_overview = df_emotion_overview.rename(columns={'party': 'count'})\n",
    "print(\"Number of COVID-tweets by emotion\")\n",
    "print(df_emotion_overview)\n",
    "\n",
    "df_emotion_per_party = df_covid_emotion.copy()\n",
    "df_emotion_per_party = df_emotion_per_party.groupby(['emotion', 'party']).count()\n",
    "df_emotion_per_party = df_emotion_per_party.rename(columns={'name': 'count'})\n",
    "print(\"Number of COVID-tweets by emotion and party\")\n",
    "print(df_emotion_per_party)\n",
    "\n",
    "# Stacked bar chart\n",
    "fig, ax = plt.subplots(tight_layout=True)\n",
    "r = [0,1,2,3,4,5,6,7]\n",
    "\n",
    "df_covid_emotion_stacked = df_covid_emotion.copy()\n",
    "stacked = (df_covid_emotion_stacked['emotion'].value_counts(sort= True, ascending=False)).index.to_list()\n",
    "df = df_covid_emotion_stacked.groupby(['party'])['emotion'].value_counts(sort=True, ascending=False).unstack().fillna(0)\n",
    "\n",
    "# From raw value to percentage\n",
    "totals = [i+j+k+l+m+n+o+p for i,j,k,l,m,n,o,p in zip(df['anger'], df['anticipation'], df['disgust'], df['fear'], df['joy'], df['sadness'], df['surprise'], df['trust'])]\n",
    "anger = [i / j * 100 for i,j in zip(df['anger'], totals)]\n",
    "anticipation = [i / j * 100 for i,j in zip(df['anticipation'], totals)]\n",
    "disgust = [i / j * 100 for i,j in zip(df['disgust'], totals)]\n",
    "fear = [i / j * 100 for i,j in zip(df['fear'], totals)]\n",
    "joy = [i / j * 100 for i,j in zip(df['joy'], totals)]\n",
    "sadness = [i / j * 100 for i,j in zip(df['sadness'], totals)]\n",
    "surprise = [i / j * 100 for i,j in zip(df['surprise'], totals)]\n",
    "trust = [i / j * 100 for i,j in zip(df['trust'], totals)]\n",
    "\n",
    "# plot\n",
    "barWidth = 0.85\n",
    "names = ('AfD','Die\\nGrünen','CDU','CSU','Die\\nLinke', 'FDP', 'Frak-\\ntions-\\nlos', 'SPD')\n",
    "\n",
    "plt.bar(r, anger, width=barWidth, color='dimgray', label='anger')\n",
    "plt.bar(r, anticipation, bottom=anger, width=barWidth, color='orange', label='anticipation')\n",
    "plt.bar(r, disgust, bottom=[i+j for i,j in zip(anger, anticipation)], width=barWidth, color='skyblue', label='disgust')\n",
    "plt.bar(r, fear, bottom=[i+j+k for i,j,k in zip(anger, anticipation, disgust)], width=barWidth, color='lightseagreen', label='fear')\n",
    "plt.bar(r, joy, bottom=[i+j+k+l for i,j,k,l in zip(anger, anticipation, disgust, fear)], width=barWidth, color='gold', label='joy')\n",
    "plt.bar(r, sadness, bottom=[i+j+k+l+m for i,j,k,l,m in zip(anger, anticipation, disgust, fear, joy)], width=barWidth, color='royalblue', label='sadness')\n",
    "plt.bar(r, surprise, bottom=[i+j+k+l+m+n for i,j,k,l,m,n in zip(anger, anticipation, disgust, fear, joy, sadness)],  color='orangered', width=barWidth, label='surprise')\n",
    "plt.bar(r, trust, bottom=[i+j+k+l+m+n+o for i,j,k,l,m,n,o in zip(anger, anticipation, disgust, fear, joy, sadness, surprise)],  color='plum', width=barWidth, label='trust')\n",
    "\n",
    "colors = ['olive', 'tomato', 'teal', 'peru', 'violet', 'gray', 'limegreen','cornflowerblue']\n",
    "plt.gca().set_prop_cycle(cycler('color', colors))\n",
    "plt.xticks(r, names)\n",
    "handles, labels = plt.gca().get_legend_handles_labels()\n",
    "order = [7,6,5,4,3,2,1,0]\n",
    "plt.legend([handles[idx] for idx in order],[labels[idx] for idx in order], loc='upper left', bbox_to_anchor=(1,1), ncol=1, labelspacing=0.8, handlelength=2.2, prop={'size': 12, 'weight': 'roman'}, frameon=True)\n",
    "\n",
    "plt.tick_params(axis='y', labelsize=9)\n",
    "plt.tick_params(axis='x', labelsize=9)\n",
    "plt.gca().spines['top'].set_visible(False)\n",
    "plt.gca().spines['right'].set_visible(False)\n",
    "plt.gca().spines['bottom'].set_visible(True)\n",
    "plt.gca().spines['left'].set_visible(False)\n",
    "sns.set_theme(style=\"whitegrid\")\n",
    "vals = ax.get_yticks()\n",
    "plt.show()"
   ],
   "metadata": {
    "collapsed": false,
    "pycharm": {
     "name": "#%%\n"
    }
   }
  },
  {
   "cell_type": "markdown",
   "source": [
    "# Evaluation of the qualitative sentiment analysis: non-COVID-tweets"
   ],
   "metadata": {
    "collapsed": false
   }
  },
  {
   "cell_type": "code",
   "execution_count": null,
   "outputs": [],
   "source": [
    "df_non_sentiment_overview = df_non_covid_sentiment.copy()\n",
    "df_non_sentiment_overview = df_non_sentiment_overview.groupby('sentiment').count()\n",
    "df_non_sentiment_overview = df_non_sentiment_overview.drop(['name'], axis='columns')\n",
    "df_non_sentiment_overview = df_non_sentiment_overview.rename(columns={'party': 'count'})\n",
    "print(\"Number of non-COVID-tweets by category (positive > 0, neutral = 0, negative < 0)\")\n",
    "print(df_non_sentiment_overview)\n",
    "\n",
    "df_non_sentiment_per_party = df_non_covid_sentiment.copy()\n",
    "df_non_sentiment_per_party = df_non_sentiment_per_party.groupby(['sentiment', 'party']).count()\n",
    "df_non_sentiment_per_party = df_non_sentiment_per_party.rename(columns={'name': 'count'})\n",
    "print(\"Number of non-COVID-tweets by category (positive > 0, neutral = 0, negative < 0) and party\")\n",
    "print(df_non_sentiment_per_party)"
   ],
   "metadata": {
    "collapsed": false,
    "pycharm": {
     "name": "#%%\n"
    }
   }
  },
  {
   "cell_type": "markdown",
   "source": [
    "# Evaluation of the qualitative emotion analysis: non-COVID-tweets"
   ],
   "metadata": {
    "collapsed": false
   }
  },
  {
   "cell_type": "code",
   "execution_count": null,
   "outputs": [],
   "source": [
    "df_non_emotion_overview = df_non_covid_emotion.copy()\n",
    "df_non_emotion_overview = df_non_emotion_overview.groupby('emotion').count()\n",
    "df_non_emotion_overview = df_non_emotion_overview.drop(['name'], axis='columns')\n",
    "df_non_emotion_overview = df_non_emotion_overview.rename(columns={'party': 'count'})\n",
    "print(\"Number of non-COVID-tweets by emotion\")\n",
    "print(df_non_emotion_overview)\n",
    "\n",
    "df_non_emotion_per_party = df_non_covid_emotion.copy()\n",
    "df_non_emotion_per_party = df_non_emotion_per_party.groupby(['emotion', 'party']).count()\n",
    "df_non_emotion_per_party = df_non_emotion_per_party.rename(columns={'name': 'count'})\n",
    "print(\"Number of non-COVID-tweets by emotion and party\")\n",
    "print(df_non_emotion_per_party)\n",
    "\n",
    "# Stacked bar chart\n",
    "fig, ax = plt.subplots()\n",
    "r = [0,1,2,3,4,5,6,7]\n",
    "\n",
    "df_covid_emotion_stacked = df_non_covid_emotion.copy()\n",
    "stacked = (df_covid_emotion_stacked['emotion'].value_counts(sort= True, ascending=False)).index.to_list()\n",
    "df = df_covid_emotion_stacked.groupby(['party'])['emotion'].value_counts(sort=True, ascending=False).unstack().fillna(0)\n",
    "\n",
    "# From raw value to percentage\n",
    "totals = [i+j+k+l+m+n+o+p for i,j,k,l,m,n,o,p in zip(df['anger'], df['anticipation'], df['disgust'], df['fear'], df['joy'], df['sadness'], df['surprise'], df['trust'])]\n",
    "anger = [i / j * 100 for i,j in zip(df['anger'], totals)]\n",
    "anticipation = [i / j * 100 for i,j in zip(df['anticipation'], totals)]\n",
    "disgust = [i / j * 100 for i,j in zip(df['disgust'], totals)]\n",
    "fear = [i / j * 100 for i,j in zip(df['fear'], totals)]\n",
    "joy = [i / j * 100 for i,j in zip(df['joy'], totals)]\n",
    "sadness = [i / j * 100 for i,j in zip(df['sadness'], totals)]\n",
    "surprise = [i / j * 100 for i,j in zip(df['surprise'], totals)]\n",
    "trust = [i / j * 100 for i,j in zip(df['trust'], totals)]\n",
    "\n",
    "# plot\n",
    "barWidth = 0.85\n",
    "names = ('AfD','Die\\nGrünen','CDU','CSU','Die\\nLinke', 'FDP', 'Fraktions-\\nlos', 'SPD')\n",
    "plt.bar(r, anger, width=barWidth, color='cadetblue', label='anger')\n",
    "plt.bar(r, anticipation, bottom=anger, width=barWidth, color='brown', label='anticipation')\n",
    "plt.bar(r, disgust, bottom=[i+j for i,j in zip(anger, anticipation)], width=barWidth, color='darkorange', label='disgust')\n",
    "plt.bar(r, fear, bottom=[i+j+k for i,j,k in zip(anger, anticipation, disgust)], width=barWidth, color='sienna', label='fear')\n",
    "plt.bar(r, joy, bottom=[i+j+k+l for i,j,k,l in zip(anger, anticipation, disgust, fear)], width=barWidth, color='slateblue', label='joy')\n",
    "plt.bar(r, sadness, bottom=[i+j+k+l+m for i,j,k,l,m in zip(anger, anticipation, disgust, fear, joy)], width=barWidth, color='black', label='sadness')\n",
    "plt.bar(r, surprise, bottom=[i+j+k+l+m+n for i,j,k,l,m,n in zip(anger, anticipation, disgust, fear, joy, sadness)],  color='mediumseagreen', width=barWidth, label='surprise')\n",
    "plt.bar(r, trust, bottom=[i+j+k+l+m+n+o for i,j,k,l,m,n,o in zip(anger, anticipation, disgust, fear, joy, sadness, surprise)],  color='lightcoral', width=barWidth, label='trust')\n",
    "\n",
    "\n",
    "colors = ['darkcyan', 'sienna', 'khaki', 'darkgreen', 'slateblue', 'lightcoral']\n",
    "plt.gca().set_prop_cycle(cycler('color', colors))\n",
    "plt.xticks(r, names)\n",
    "plt.xlabel(\"Parties\")\n",
    "plt.legend(loc='upper left', bbox_to_anchor=(1,1), ncol=1)\n",
    "plt.gca().set_yticklabels(['{:.0f}%'.format(x) for x in plt.gca().get_yticks()])\n",
    "vals = ax.get_yticks()\n",
    "plt.show()\n",
    "\n"
   ],
   "metadata": {
    "collapsed": false,
    "pycharm": {
     "name": "#%%\n"
    }
   }
  }
 ],
 "metadata": {
  "kernelspec": {
   "display_name": "Python 3",
   "language": "python",
   "name": "python3"
  },
  "language_info": {
   "codemirror_mode": {
    "name": "ipython",
    "version": 2
   },
   "file_extension": ".py",
   "mimetype": "text/x-python",
   "name": "python",
   "nbconvert_exporter": "python",
   "pygments_lexer": "ipython2",
   "version": "2.7.6"
  }
 },
 "nbformat": 4,
 "nbformat_minor": 0
}