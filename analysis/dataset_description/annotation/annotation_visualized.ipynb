{
 "cells": [
  {
   "cell_type": "code",
   "execution_count": 109,
   "metadata": {
    "collapsed": true
   },
   "outputs": [],
   "source": [
    "import codecs\n",
    "import json\n",
    "import pandas as pd\n",
    "import seaborn as sns\n",
    "import matplotlib.pyplot as plt"
   ]
  },
  {
   "cell_type": "markdown",
   "source": [
    "# Prepare data"
   ],
   "metadata": {
    "collapsed": false
   }
  },
  {
   "cell_type": "code",
   "execution_count": 110,
   "outputs": [],
   "source": [
    "# covid\n",
    "df_covid_tweets_annotation = pd.read_csv('covid_tweets_annotation.csv')\n",
    "df_covid_tweets_annotation  = df_covid_tweets_annotation.copy()\n",
    "df_covid_tweets_annotation  = df_covid_tweets_annotation .drop(['tweet_id', 'link', 'tweet_content', 'annotation_qualifier'], axis='columns')\n",
    "\n",
    "df_popular_covid_tweets = pd.read_json('../most_popular_covid_tweets.json')\n",
    "df_popular_covid_tweets = df_popular_covid_tweets.drop(['screen_name', 'p_user_id', 'tweet'], axis='columns')\n",
    "\n",
    "df_covid = df_popular_covid_tweets.join(df_covid_tweets_annotation)\n",
    "\n",
    "df_covid_sentiment = df_covid.copy()\n",
    "df_covid_sentiment = df_covid_sentiment.drop(['annotation_emotion'], axis='columns')\n",
    "df_covid_sentiment = df_covid_sentiment.rename(columns={'annotation_sentiment': 'sentiment'})\n",
    "\n",
    "df_covid_emotion = df_covid.copy()\n",
    "df_covid_emotion = df_covid_emotion.drop(['annotation_sentiment'], axis='columns')\n",
    "df_covid_emotion = df_covid_emotion.rename(columns={'annotation_emotion': 'emotion'})\n",
    "\n",
    "# non-covid\n",
    "df_non_covid_tweets_annotation = pd.read_csv('non_covid_tweets_annotation.csv')\n",
    "df_non_covid_tweets_annotation  = df_non_covid_tweets_annotation.copy()\n",
    "df_non_covid_tweets_annotation  = df_non_covid_tweets_annotation.drop(['tweet_id', 'link', 'tweet_content'], axis='columns')\n",
    "\n",
    "df_popular_non_covid_tweets = pd.read_json('../most_popular_non_covid_tweets.json')\n",
    "df_popular_non_covid_tweets = df_popular_non_covid_tweets.drop(['screen_name', 'p_user_id', 'tweet'], axis='columns')\n",
    "\n",
    "df_non_covid = df_popular_non_covid_tweets.join(df_non_covid_tweets_annotation)\n",
    "\n",
    "df_non_covid_sentiment = df_non_covid.copy()\n",
    "df_non_covid_sentiment = df_non_covid_sentiment.drop(['annotation_emotion'], axis='columns')\n",
    "df_non_covid_sentiment = df_non_covid_sentiment.rename(columns={'annotation_sentiment': 'sentiment'})\n",
    "\n",
    "df_non_covid_emotion = df_non_covid.copy()\n",
    "df_non_covid_emotion = df_non_covid_emotion.drop(['annotation_sentiment'], axis='columns')\n",
    "df_non_covid_emotion = df_non_covid_emotion.rename(columns={'annotation_emotion': 'emotion'})"
   ],
   "metadata": {
    "collapsed": false,
    "pycharm": {
     "name": "#%%\n"
    }
   }
  },
  {
   "cell_type": "markdown",
   "source": [
    "# Sentiment Covid"
   ],
   "metadata": {
    "collapsed": false
   }
  },
  {
   "cell_type": "code",
   "execution_count": 111,
   "outputs": [
    {
     "name": "stdout",
     "output_type": "stream",
     "text": [
      "           count\n",
      "sentiment       \n",
      "negative      77\n",
      "neutral       20\n",
      "positive      23\n",
      "                                 count\n",
      "sentiment party                       \n",
      "negative  AfD                       14\n",
      "          Bündnis 90/Die Grünen      8\n",
      "          CDU                        6\n",
      "          CSU                        4\n",
      "          Die Linke                 13\n",
      "          FDP                        5\n",
      "          Fraktionslos              15\n",
      "          SPD                       12\n",
      "neutral   Bündnis 90/Die Grünen      1\n",
      "          CDU                        6\n",
      "          CSU                        7\n",
      "          Die Linke                  1\n",
      "          FDP                        5\n",
      "positive  AfD                        1\n",
      "          Bündnis 90/Die Grünen      6\n",
      "          CDU                        3\n",
      "          CSU                        4\n",
      "          Die Linke                  1\n",
      "          FDP                        5\n",
      "          SPD                        3\n"
     ]
    }
   ],
   "source": [
    "df_sentiment_overview = df_covid_sentiment.copy()\n",
    "df_sentiment_overview = df_sentiment_overview.groupby('sentiment').count()\n",
    "df_sentiment_overview = df_sentiment_overview.drop(['name'], axis='columns')\n",
    "df_sentiment_overview = df_sentiment_overview.rename(columns={'party': 'count'})\n",
    "print(df_sentiment_overview)\n",
    "\n",
    "df_sentiment_per_party = df_covid_sentiment.copy()\n",
    "df_sentiment_per_party = df_sentiment_per_party.groupby(['sentiment', 'party']).count()\n",
    "df_sentiment_per_party = df_sentiment_per_party.rename(columns={'name': 'count'})\n",
    "print(df_sentiment_per_party)"
   ],
   "metadata": {
    "collapsed": false,
    "pycharm": {
     "name": "#%%\n"
    }
   }
  },
  {
   "cell_type": "markdown",
   "source": [
    "# Emotion Covid"
   ],
   "metadata": {
    "collapsed": false
   }
  },
  {
   "cell_type": "code",
   "execution_count": 112,
   "outputs": [
    {
     "name": "stdout",
     "output_type": "stream",
     "text": [
      "              count\n",
      "emotion            \n",
      "anger            34\n",
      "anticipation     15\n",
      "disgust          28\n",
      "fear             11\n",
      "joy               4\n",
      "sadness           8\n",
      "surprise          2\n",
      "trust            18\n",
      "                                    count\n",
      "emotion      party                       \n",
      "anger        AfD                        6\n",
      "             Bündnis 90/Die Grünen      3\n",
      "             CDU                        4\n",
      "             Die Linke                  5\n",
      "             FDP                        1\n",
      "             Fraktionslos              13\n",
      "             SPD                        2\n",
      "anticipation AfD                        1\n",
      "             Bündnis 90/Die Grünen      3\n",
      "             CDU                        3\n",
      "             CSU                        2\n",
      "             Die Linke                  1\n",
      "             FDP                        4\n",
      "             SPD                        1\n",
      "disgust      AfD                        8\n",
      "             Bündnis 90/Die Grünen      4\n",
      "             CDU                        1\n",
      "             CSU                        1\n",
      "             Die Linke                  5\n",
      "             FDP                        3\n",
      "             Fraktionslos               1\n",
      "             SPD                        5\n",
      "fear         Bündnis 90/Die Grünen      2\n",
      "             CSU                        5\n",
      "             Die Linke                  2\n",
      "             Fraktionslos               1\n",
      "             SPD                        1\n",
      "joy          Bündnis 90/Die Grünen      1\n",
      "             CSU                        1\n",
      "             Die Linke                  1\n",
      "             SPD                        1\n",
      "sadness      CDU                        2\n",
      "             Die Linke                  1\n",
      "             FDP                        1\n",
      "             SPD                        4\n",
      "surprise     CSU                        1\n",
      "             FDP                        1\n",
      "trust        Bündnis 90/Die Grünen      2\n",
      "             CDU                        5\n",
      "             CSU                        5\n",
      "             FDP                        5\n",
      "             SPD                        1\n"
     ]
    }
   ],
   "source": [
    "df_emotion_overview = df_covid_emotion.copy()\n",
    "df_emotion_overview = df_emotion_overview.groupby('emotion').count()\n",
    "df_emotion_overview = df_emotion_overview.drop(['name'], axis='columns')\n",
    "df_emotion_overview = df_emotion_overview.rename(columns={'party': 'count'})\n",
    "print(df_emotion_overview)\n",
    "\n",
    "df_emotion_per_party = df_covid_emotion.copy()\n",
    "df_emotion_per_party = df_emotion_per_party.groupby(['emotion', 'party']).count()\n",
    "df_emotion_per_party = df_emotion_per_party.rename(columns={'name': 'count'})\n",
    "print(df_emotion_per_party)"
   ],
   "metadata": {
    "collapsed": false,
    "pycharm": {
     "name": "#%%\n"
    }
   }
  },
  {
   "cell_type": "markdown",
   "source": [
    "# Sentiment Non-Covid"
   ],
   "metadata": {
    "collapsed": false
   }
  },
  {
   "cell_type": "code",
   "execution_count": 113,
   "outputs": [
    {
     "name": "stdout",
     "output_type": "stream",
     "text": [
      "           count\n",
      "sentiment       \n",
      "negative      88\n",
      "neutral       10\n",
      "positive      22\n",
      "                                 count\n",
      "sentiment party                       \n",
      "negative  AfD                       14\n",
      "          Bündnis 90/Die Grünen     12\n",
      "          CDU                        8\n",
      "          CSU                        9\n",
      "          Die Linke                 14\n",
      "          FDP                        8\n",
      "          Fraktionslos              13\n",
      "          SPD                       10\n",
      "neutral   Bündnis 90/Die Grünen      3\n",
      "          CDU                        4\n",
      "          CSU                        1\n",
      "          FDP                        2\n",
      "positive  AfD                        1\n",
      "          CDU                        3\n",
      "          CSU                        5\n",
      "          Die Linke                  1\n",
      "          FDP                        5\n",
      "          Fraktionslos               2\n",
      "          SPD                        5\n"
     ]
    }
   ],
   "source": [
    "df_non_sentiment_overview = df_non_covid_sentiment.copy()\n",
    "df_non_sentiment_overview = df_non_sentiment_overview.groupby('sentiment').count()\n",
    "df_non_sentiment_overview = df_non_sentiment_overview.drop(['name'], axis='columns')\n",
    "df_non_sentiment_overview = df_non_sentiment_overview.rename(columns={'party': 'count'})\n",
    "print(df_non_sentiment_overview)\n",
    "\n",
    "df_non_sentiment_per_party = df_non_covid_sentiment.copy()\n",
    "df_non_sentiment_per_party = df_non_sentiment_per_party.groupby(['sentiment', 'party']).count()\n",
    "df_non_sentiment_per_party = df_non_sentiment_per_party.rename(columns={'name': 'count'})\n",
    "print(df_non_sentiment_per_party)"
   ],
   "metadata": {
    "collapsed": false,
    "pycharm": {
     "name": "#%%\n"
    }
   }
  },
  {
   "cell_type": "markdown",
   "source": [
    "# Emotion Non-Covid"
   ],
   "metadata": {
    "collapsed": false
   }
  },
  {
   "cell_type": "code",
   "execution_count": 114,
   "outputs": [
    {
     "name": "stdout",
     "output_type": "stream",
     "text": [
      "              count\n",
      "emotion            \n",
      "anger            50\n",
      "anticipation      6\n",
      "disgust          26\n",
      "fear              3\n",
      "joy               8\n",
      "sadness           8\n",
      "surprise          1\n",
      "trust            18\n",
      "                                    count\n",
      "emotion      party                       \n",
      "anger        AfD                       11\n",
      "             Bündnis 90/Die Grünen      5\n",
      "             CDU                        3\n",
      "             CSU                        7\n",
      "             Die Linke                  4\n",
      "             FDP                        7\n",
      "             Fraktionslos              10\n",
      "             SPD                        3\n",
      "anticipation AfD                        1\n",
      "             CDU                        1\n",
      "             CSU                        1\n",
      "             FDP                        1\n",
      "             Fraktionslos               1\n",
      "             SPD                        1\n",
      "disgust      AfD                        2\n",
      "             Bündnis 90/Die Grünen      4\n",
      "             CDU                        3\n",
      "             CSU                        2\n",
      "             Die Linke                 10\n",
      "             FDP                        1\n",
      "             SPD                        4\n",
      "fear         Bündnis 90/Die Grünen      1\n",
      "             CDU                        1\n",
      "             Fraktionslos               1\n",
      "joy          AfD                        1\n",
      "             CSU                        1\n",
      "             FDP                        1\n",
      "             Fraktionslos               2\n",
      "             SPD                        3\n",
      "sadness      Bündnis 90/Die Grünen      2\n",
      "             CDU                        1\n",
      "             FDP                        2\n",
      "             Fraktionslos               1\n",
      "             SPD                        2\n",
      "surprise     Die Linke                  1\n",
      "trust        Bündnis 90/Die Grünen      3\n",
      "             CDU                        6\n",
      "             CSU                        4\n",
      "             FDP                        3\n",
      "             SPD                        2\n"
     ]
    }
   ],
   "source": [
    "df_non_emotion_overview = df_non_covid_emotion.copy()\n",
    "df_non_emotion_overview = df_non_emotion_overview.groupby('emotion').count()\n",
    "df_non_emotion_overview = df_non_emotion_overview.drop(['name'], axis='columns')\n",
    "df_non_emotion_overview = df_non_emotion_overview.rename(columns={'party': 'count'})\n",
    "print(df_non_emotion_overview)\n",
    "\n",
    "df_non_emotion_per_party = df_non_covid_emotion.copy()\n",
    "df_non_emotion_per_party = df_non_emotion_per_party.groupby(['emotion', 'party']).count()\n",
    "df_non_emotion_per_party = df_non_emotion_per_party.rename(columns={'name': 'count'})\n",
    "print(df_non_emotion_per_party)\n"
   ],
   "metadata": {
    "collapsed": false,
    "pycharm": {
     "name": "#%%\n"
    }
   }
  }
 ],
 "metadata": {
  "kernelspec": {
   "display_name": "Python 3",
   "language": "python",
   "name": "python3"
  },
  "language_info": {
   "codemirror_mode": {
    "name": "ipython",
    "version": 2
   },
   "file_extension": ".py",
   "mimetype": "text/x-python",
   "name": "python",
   "nbconvert_exporter": "python",
   "pygments_lexer": "ipython2",
   "version": "2.7.6"
  }
 },
 "nbformat": 4,
 "nbformat_minor": 0
}