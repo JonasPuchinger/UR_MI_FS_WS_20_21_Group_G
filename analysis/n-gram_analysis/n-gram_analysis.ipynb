{
 "cells": [
  {
   "cell_type": "code",
   "execution_count": 278,
   "metadata": {
    "collapsed": true
   },
   "outputs": [],
   "source": [
    "import pandas as pd\n",
    "import itertools\n",
    "import collections\n",
    "from nltk import trigrams\n",
    "import warnings\n",
    "warnings.filterwarnings(\"ignore\")"
   ]
  },
  {
   "cell_type": "markdown",
   "source": [
    "# Prepare data"
   ],
   "metadata": {
    "collapsed": false
   }
  },
  {
   "cell_type": "code",
   "execution_count": 279,
   "outputs": [],
   "source": [
    "df_covid_tweets = pd.read_csv('clean_n-gram.csv')\n",
    "df_covid_tweets_stats = df_covid_tweets.copy()\n",
    "df_covid_tweets_stats = df_covid_tweets_stats.drop(['original tweet'], axis='columns')\n",
    "parties = df_covid_tweets_stats['party'].unique()\n",
    "\n",
    "df = df_covid_tweets_stats.copy()\n",
    "df = df.dropna()"
   ],
   "metadata": {
    "collapsed": false,
    "pycharm": {
     "name": "#%%\n"
    }
   }
  },
  {
   "cell_type": "markdown",
   "source": [
    "# N-gram Analysis: COVID-tweets"
   ],
   "metadata": {
    "collapsed": false
   }
  },
  {
   "cell_type": "code",
   "execution_count": 280,
   "outputs": [
    {
     "name": "stdout",
     "output_type": "stream",
     "text": [
      "CDU\n",
      "[('mehr', 497), ('müssen', 494), ('heute', 453), ('geht', 353), ('menschen', 349), ('corona', 318), ('wenn', 275), ('gibt', 267), ('pandemie', 265), ('viele', 248), ('auch', 243), ('deutschland', 241), ('gerade', 237), ('maßnahmen', 235), ('aber', 233), ('danke', 227), ('schon', 227), ('gute', 221), ('zeit', 208), ('unternehmen', 204)]\n",
      "[(('vielen', 'dank'), 46), (('gute', 'nachricht'), 30), (('viele', 'menschen'), 29), (('wegen', 'corona'), 28), (('abstand', 'halten'), 27), (('insbesondere', 'polizist*innen'), 26), (('potentieller', 'körperverletzung'), 26), (('heute', 'abend'), 25), (('rund', 'corona'), 25), (('teilnehmer*innen', 'sog.'), 25), (('sog.', 'gefährden'), 25), (('gefährden', 'insbesondere'), 25), (('polizist*innen', 'unverantwortlich'), 25), (('unverantwortlich', 'meinungsäußerung'), 25), (('meinungsäußerung', 'potentieller'), 25), (('körperverletzung', 'dagegen'), 25), (('auch', 'heute'), 24), (('fake', 'news'), 23), (('netz', 'wimmelt'), 23), (('wimmelt', 'falschmeldungen'), 23)]\n",
      "[(('teilnehmer*innen', 'sog.', 'gefährden'), 25), (('sog.', 'gefährden', 'insbesondere'), 25), (('gefährden', 'insbesondere', 'polizist*innen'), 25), (('insbesondere', 'polizist*innen', 'unverantwortlich'), 25), (('polizist*innen', 'unverantwortlich', 'meinungsäußerung'), 25), (('unverantwortlich', 'meinungsäußerung', 'potentieller'), 25), (('meinungsäußerung', 'potentieller', 'körperverletzung'), 25), (('potentieller', 'körperverletzung', 'dagegen'), 25), (('netz', 'wimmelt', 'falschmeldungen'), 23), (('wimmelt', 'falschmeldungen', 'wirklich'), 23), (('falschmeldungen', 'wirklich', 'belastbare'), 23), (('informationen', 'rund', 'corona'), 23), (('rund', 'corona', 'findet'), 23), (('corona', 'findet', 'auch'), 21), (('findet', 'auch', 'heute'), 21), (('reproduktionszahl', 'studie', 'helmholtz-gesellschaft'), 19), (('studie', 'helmholtz-gesellschaft', 'niedrigsten'), 19), (('helmholtz-gesellschaft', 'niedrigsten', 'bundesländern'), 19), (('niedrigsten', 'bundesländern', 'erste'), 19), (('bundesländern', 'erste', 'corona-fall'), 19)]\n",
      "SPD\n",
      "[('müssen', 602), ('mehr', 587), ('heute', 572), ('corona', 436), ('menschen', 406), ('geht', 395), ('viele', 390), ('gibt', 380), ('wenn', 358), ('auch', 342), ('zeigt', 316), ('pandemie', 313), ('gute', 308), ('schon', 308), ('gerade', 299), ('deutschland', 291), ('immer', 284), ('euch', 283), ('krise', 279), ('wäre', 252)]\n",
      "[(('guten', 'morgen'), 154), (('abstands-', 'hygieneregeln'), 144), (('passt', 'euch'), 119), (('euch', 'eure'), 114), (('eure', 'lieben'), 114), (('mein', 'musiktipp'), 113), (('euch', 'draußen'), 113), (('draußen', 'digitalen'), 113), (('digitalen', 'orbit'), 113), (('musiktipp', 'euch'), 112), (('morgen', 'bordesholm'), 110), (('bordesholm', 'mein'), 109), (('hygieneregeln', 'passt'), 108), (('notwendigen', 'abstands-'), 88), (('denkt', 'notwendigen'), 84), (('lieben', 'schönen'), 55), (('entdecken', 'osten'), 44), (('osten', 'heute'), 44), (('nächsten', 'wochen'), 42), (('viele', 'menschen'), 40)]\n",
      "[(('passt', 'euch', 'eure'), 114), (('euch', 'eure', 'lieben'), 114), (('euch', 'draußen', 'digitalen'), 113), (('draußen', 'digitalen', 'orbit'), 113), (('mein', 'musiktipp', 'euch'), 112), (('musiktipp', 'euch', 'draußen'), 112), (('guten', 'morgen', 'bordesholm'), 110), (('morgen', 'bordesholm', 'mein'), 109), (('bordesholm', 'mein', 'musiktipp'), 109), (('hygieneregeln', 'passt', 'euch'), 108), (('abstands-', 'hygieneregeln', 'passt'), 105), (('notwendigen', 'abstands-', 'hygieneregeln'), 88), (('denkt', 'notwendigen', 'abstands-'), 83), (('eure', 'lieben', 'schönen'), 55), (('entdecken', 'osten', 'heute'), 44), (('bund', 'ländern', 'kommunen'), 23), (('coronamanagement', 'bund', 'ländern'), 21), (('denkt', 'abstands-', 'hygieneregeln'), 14), (('wirtschaftlichen', 'sozialen', 'folgen'), 10), (('hier', 'gibt', 'infos'), 10)]\n",
      "Bündnis 90/Die Grünen\n",
      "[('mehr', 569), ('müssen', 500), ('heute', 425), ('menschen', 418), ('brauchen', 339), ('geht', 336), ('gerade', 297), ('gibt', 286), ('krise', 260), ('schon', 259), ('corona', 252), ('viele', 242), ('pandemie', 233), ('bundesregierung', 216), ('aber', 202), ('danke', 200), ('endlich', 193), ('braucht', 190), ('zeiten', 190), ('zeit', 188)]\n",
      "[(('heute', 'abend'), 37), (('viele', 'menschen'), 32), (('schulen', 'kitas'), 27), (('brauchen', 'mehr'), 25), (('kitas', 'schulen'), 22), (('seit', 'monaten'), 22), (('vielen', 'dank'), 20), (('abstand', 'halten'), 19), (('erst', 'recht'), 18), (('brauchen', 'dringend'), 18), (('zeiten', 'corona'), 17), (('seit', 'wochen'), 17), (('seit', 'jahren'), 17), (('gerade', 'zeiten'), 17), (('alles', 'gute'), 16), (('europäische', 'solidarität'), 16), (('geht', 'voran'), 16), (('braucht', 'mehr'), 15), (('mehr', 'infos'), 15), (('geht', 'darum'), 14)]\n",
      "[(('bayern', 'geht', 'voran'), 10), (('gemeinsam', 'corona', 'bekämpfen'), 8), (('corona', 'bekämpfen', 'dabei'), 8), (('metapher', 'politische', 'quarantäne'), 5), (('politische', 'quarantäne', 'übersetzt'), 5), (('quarantäne', 'übersetzt', 'heißt'), 5), (('übersetzt', 'heißt', 'darf'), 5), (('heißt', 'darf', 'fall'), 5), (('darf', 'fall', 'mehrheitsbeschaffer'), 5), (('fall', 'mehrheitsbeschaffer', 'sach-'), 5), (('mehrheitsbeschaffer', 'sach-', 'personalentscheidungen'), 5), (('sach-', 'personalentscheidungen', 'ausschlag'), 5), (('personalentscheidungen', 'ausschlag', 'geben'), 5), (('gemeinsame', 'europäische', 'anleihen'), 4), (('vielen', 'dank', 'dafür'), 4), (('völlig', 'unverständlich', 'warum'), 4), (('brauchen', 'dringend', 'mehr'), 4), (('ratsam', 'laschet', 'stärker'), 4), (('laschet', 'stärker', 'eingelesen'), 4), (('stärker', 'eingelesen', 'hätte'), 4)]\n",
      "CSU\n",
      "[('corona', 134), ('müssen', 114), ('bayern', 102), ('mehr', 82), ('brauchen', 58), ('heute', 57), ('bleiben', 55), ('danke', 45), ('gibt', 44), ('geht', 43), ('gilt', 41), ('gerade', 40), ('richtig', 39), ('bleibt', 37), ('immer', 37), ('deutschland', 36), ('wichtig', 35), ('lockdown', 35), ('kinder', 34), ('dank', 34)]\n",
      "[(('mrd', 'euro'), 13), (('schulen', 'kitas'), 12), (('vorsicht', 'umsicht'), 12), (('vielen', 'dank'), 10), (('herzlichen', 'dank'), 8), (('brauchen', 'mehr'), 8), (('vernünftigen', 'unvernünftigen'), 7), (('corona', 'bleibt'), 7), (('mehr', 'maske'), 7), (('gute', 'besserung'), 6), (('leben', 'retten'), 6), (('schule', 'kita'), 6), (('maske', 'weniger'), 6), (('weniger', 'alkohol'), 6), (('daheim', 'bleiben'), 6), (('abstand', 'halten'), 5), (('gibt', 'anlass'), 5), (('zeiten', 'corona'), 5), (('gute', 'nachricht'), 5), (('kameradinnen', 'kameraden'), 5)]\n",
      "[(('mehr', 'maske', 'weniger'), 6), (('vernünftigen', 'unvernünftigen', 'schützen'), 5), (('maske', 'weniger', 'alkohol'), 5), (('steht', 'erster', 'stelle'), 4), (('müssen', 'vernünftigen', 'unvernünftigen'), 4), (('priorität', 'schule', 'kita'), 4), (('daheim', 'bleiben', 'kontakte'), 4), (('bleiben', 'kontakte', 'reduzieren'), 4), (('helmholtz', 'zentrum', 'woche'), 3), (('zentrum', 'woche', 'studie'), 3), (('woche', 'studie', 'mythos'), 3), (('studie', 'mythos', 'aufgeräumt'), 3), (('mythos', 'aufgeräumt', 'kinder'), 3), (('aufgeräumt', 'kinder', 'schulen'), 3), (('kinder', 'schulen', 'keinerlei'), 3), (('schulen', 'keinerlei', 'pandemietreiber'), 3), (('keinerlei', 'pandemietreiber', 'wären'), 3), (('pandemietreiber', 'wären', 'stattdessen'), 3), (('wären', 'stattdessen', 'symptomlos'), 3), (('müssen', 'vorsichtig', 'bleiben'), 3)]\n",
      "Die Linke\n",
      "[('menschen', 629), ('mehr', 624), ('müssen', 481), ('heute', 436), ('corona', 410), ('gibt', 364), ('geht', 337), ('brauchen', 308), ('viele', 305), ('schon', 279), ('aber', 272), ('pandemie', 271), ('krise', 258), ('immer', 253), ('wenn', 233), ('darf', 232), ('bundesregierung', 232), ('wegen', 224), ('gerade', 218), ('wäre', 209)]\n",
      "[(('viele', 'menschen'), 40), (('corona', 'krise'), 38), (('achim', 'kessler'), 32), (('öffentliche', 'hand'), 29), (('seit', 'jahren'), 27), (('mehr', 'geld'), 26), (('wegen', 'corona'), 26), (('medizinisches', 'personal'), 24), (('seit', 'monaten'), 24), (('heute', 'abend'), 24), (('erst', 'recht'), 23), (('brauchen', 'mehr'), 22), (('mein', 'interview'), 19), (('zeiten', 'corona'), 19), (('höchste', 'zeit'), 18), (('schon', 'lange'), 18), (('milliarden', 'euro'), 17), (('laufen', 'halten'), 16), (('kosten', 'krise'), 16), (('dafür', 'sorgen'), 16)]\n",
      "[(('laden', 'laufen', 'halten'), 8), (('zurück', 'öffentliche', 'hand'), 8), (('sören', 'pellmann', 'spricht'), 8), (('schutz', 'mieter*innen', 'wohnungslosen'), 7), (('schritt', 'richtige', 'richtung'), 6), (('sofortprogramm', 'schutz', 'mieter*innen'), 5), (('darf', 'zuhause', 'verlieren'), 5), (('fraktion', 'linke', 'bundestag'), 5), (('milliardäre', 'multimillionäre', 'hohen'), 5), (('hohen', 'freigrenzen', 'betriebsvermögen'), 5), (('folien', 'schneiden', 'gesichtsvisiere'), 5), (('leopoldina', 'steht', 'kritik'), 5), (('steht', 'kritik', '2016'), 5), (('kritik', '2016', 'krankenhaus-schließungen'), 5), (('2016', 'krankenhaus-schließungen', 'plädierte'), 5), (('krankenhaus-schließungen', 'plädierte', 'ausgerechnet'), 5), (('plädierte', 'ausgerechnet', 'ard-„faktenfinder'), 5), (('ausgerechnet', 'ard-„faktenfinder', 'springt'), 5), (('ard-„faktenfinder', 'springt', 'seite'), 5), (('springt', 'seite', 'verrennt'), 5)]\n",
      "Fraktionslos\n",
      "[('mehr', 51), ('schon', 48), ('gibt', 33), ('warum', 32), ('corona', 30), ('immer', 29), ('müssen', 29), ('wäre', 28), ('heute', 27), ('gerade', 27), ('wenn', 26), ('wohl', 24), ('menschen', 22), ('zeit', 21), ('viele', 21), ('geht', 21), ('einfach', 21), ('sowas', 21), ('bürger', 20), ('völlig', 19)]\n",
      "[(('immer', 'mehr'), 6), (('keine', 'einheitlichen'), 6), (('einheitlichen', 'statt'), 6), (('statt', 'bürger'), 6), (('bürger', 'angemahnt'), 6), (('angemahnt', 'plattitüden'), 6), (('plattitüden', 'aussitzen'), 6), (('aussitzen', 'nachbarn'), 6), (('nachbarn', 'handeln'), 6), (('handeln', 'wenn'), 6), (('wenn', 'völlig'), 6), (('völlig', 'vertane'), 6), (('vertane', 'zeit'), 6), (('seit', 'jahren'), 5), (('viele', 'menschen'), 4), (('schon', 'länger'), 4), (('rechtsfrage', 'veranstalter'), 4), (('veranstalter', 'teilnehmer'), 4), (('teilnehmer', 'tragen'), 4), (('tragen', 'masken'), 4)]\n",
      "[(('keine', 'einheitlichen', 'statt'), 6), (('einheitlichen', 'statt', 'bürger'), 6), (('statt', 'bürger', 'angemahnt'), 6), (('bürger', 'angemahnt', 'plattitüden'), 6), (('angemahnt', 'plattitüden', 'aussitzen'), 6), (('plattitüden', 'aussitzen', 'nachbarn'), 6), (('aussitzen', 'nachbarn', 'handeln'), 6), (('nachbarn', 'handeln', 'wenn'), 6), (('handeln', 'wenn', 'völlig'), 6), (('wenn', 'völlig', 'vertane'), 6), (('völlig', 'vertane', 'zeit'), 6), (('rechtsfrage', 'veranstalter', 'teilnehmer'), 4), (('veranstalter', 'teilnehmer', 'tragen'), 4), (('teilnehmer', 'tragen', 'masken'), 4), (('tragen', 'masken', 'einhalten'), 4), (('masken', 'einhalten', 'abstandsregeln'), 4), (('einhalten', 'abstandsregeln', 'aufrufen'), 4), (('abstandsregeln', 'aufrufen', 'dürfte'), 4), (('aufrufen', 'dürfte', 'verboten'), 4), (('rückkehr', 'faschisten', 'maske'), 2)]\n",
      "FDP\n",
      "[('müssen', 641), ('mehr', 632), ('brauchen', 411), ('corona', 401), ('geht', 401), ('heute', 398), ('menschen', 374), ('maßnahmen', 321), ('gibt', 311), ('schon', 302), ('immer', 267), ('deutschland', 264), ('wenn', 240), ('viele', 239), ('krise', 238), ('wäre', 238), ('endlich', 237), ('aber', 235), ('darf', 225), ('pandemie', 222)]\n",
      "[(('nationaler', 'tragweite'), 34), (('christian', 'jung'), 29), (('lage', 'nationaler'), 27), (('freien', 'demokraten'), 27), (('wegen', 'corona'), 26), (('heute', 'morgen'), 24), (('seit', 'wochen'), 23), (('bund', 'länder'), 23), (('heute', 'abend'), 23), (('viele', 'menschen'), 23), (('brauchen', 'dringend'), 22), (('brauchen', 'endlich'), 22), (('vielen', 'dank'), 21), (('christian', 'lindner'), 21), (('gute', 'nachricht'), 20), (('vulnerable', 'gruppen'), 20), (('seit', 'jahren'), 20), (('immer', 'mehr'), 19), (('seit', 'monaten'), 19), (('epidemischen', 'lage'), 18)]\n",
      "[(('lage', 'nationaler', 'tragweite'), 27), (('epidemische', 'lage', 'nationaler'), 16), (('epidemischen', 'lage', 'nationaler'), 9), (('entlasten', 'investieren', 'entfesseln'), 9), (('größte', 'wirtschaftskrise', 'seit'), 8), (('wirtschaftskrise', 'seit', 'weltkrieg'), 8), (('verursacht', 'doch', 'kommen'), 8), (('investieren', 'entfesseln', 'funktionieren'), 8), (('schutz', 'vulnerablen', 'gruppen'), 8), (('seit', 'weltkrieg', 'verursacht'), 7), (('weltkrieg', 'verursacht', 'doch'), 7), (('doch', 'kommen', 'sagen'), 7), (('kommen', 'sagen', 'entlasten'), 7), (('sagen', 'entlasten', 'investieren'), 7), (('ruiniert', 'seit', 'vielen'), 7), (('seit', 'vielen', 'jahren'), 7), (('risikogruppen', 'besser', 'schützen'), 7), (('langfristige', 'ganzheitliche', 'strategie'), 7), (('entfesseln', 'funktionieren', 'seht'), 6), (('notlage', 'nationaler', 'tragweite'), 6)]\n",
      "AfD\n",
      "[('mehr', 384), ('schon', 267), ('deutschland', 241), ('bürger', 238), ('menschen', 221), ('regierung', 220), ('immer', 199), ('müssen', 191), ('geht', 178), ('heute', 173), ('corona', 168), ('wenn', 165), ('gibt', 164), ('wegen', 149), ('morgen', 143), ('seit', 141), ('viele', 135), ('aber', 133), ('macht', 132), ('bundesregierung', 126)]\n",
      "[(('guten', 'morgen'), 108), (('immer', 'mehr'), 25), (('wegen', 'corona'), 22), (('empfohlen', 'welt'), 21), (('welt', 'news'), 21), (('news', 'android'), 21), (('schon', 'lange'), 19), (('seit', 'monaten'), 17), (('viele', 'menschen'), 17), (('seit', 'jahren'), 15), (('frau', 'merkel'), 13), (('millionen', 'euro'), 13), (('märz', '2020'), 12), (('mrd', 'euro'), 11), (('klares', 'nein'), 11), (('gute', 'besserung'), 11), (('heute', 'abend'), 10), (('meine', 'rede'), 10), (('maske', 'tragen'), 10), (('mehr', 'menschen'), 10)]\n",
      "[(('empfohlen', 'welt', 'news'), 21), (('welt', 'news', 'android'), 21), (('forderung', 'märz', '2020'), 6), (('befürchtet', 'deshalb', '|sdrs'), 6), (('deshalb', '|sdrs', '18136'), 6), (('|sdrs', '18136', 'antrag'), 6), (('18136', 'antrag', 'vorgelegt'), 6), (('antrag', 'vorgelegt', 'immer'), 6), (('vorgelegt', 'immer', 'ideologisch'), 6), (('immer', 'ideologisch', 'verblendet'), 6), (('ideologisch', 'verblendet', 'geschlossen'), 6), (('verblendet', 'geschlossen', 'abgelehnt'), 6), (('geschlossen', 'abgelehnt', 'wurde'), 6), (('guten', 'morgen', 'heute'), 6), (('genau', 'vorausgesehen', 'befürchtet'), 5), (('vorausgesehen', 'befürchtet', 'deshalb'), 5), (('immer', 'mehr', 'menschen'), 5), (('zeit', 'veränderung', 'zeit'), 5), (('einzelhandel', 'mehr', 'schließen'), 4), (('wasser', 'predigen', 'wein'), 4)]\n"
     ]
    }
   ],
   "source": [
    "for p in parties:\n",
    "    from nltk import bigrams\n",
    "    print(p)\n",
    "    df_party = df.copy()\n",
    "    df_party = df_party[df_party['party'] == p]\n",
    "    all_tweets_no_urls = [tweet for tweet in df_party['tweet']]\n",
    "\n",
    "    words_in_tweet = [tweet.split() for tweet in all_tweets_no_urls]\n",
    "    words = words_in_tweet\n",
    "    # List of all words across tweets\n",
    "    all_words_no_urls = list(itertools.chain(*words_in_tweet))\n",
    "    # Create counter\n",
    "    counts_no_urls = collections.Counter(all_words_no_urls)\n",
    "    print(\"word frequencies\")\n",
    "    print(counts_no_urls.most_common(20))\n",
    "\n",
    "    terms_bigram = [list(bigrams(tweet)) for tweet in words]\n",
    "    # Flatten list of bigrams in clean tweets\n",
    "    bigrams = list(itertools.chain(*terms_bigram))\n",
    "    # Create counter of words in clean bigrams\n",
    "    bigram_counts = collections.Counter(bigrams)\n",
    "    print(\"bigrams\")\n",
    "    print(bigram_counts.most_common(20))\n",
    "\n",
    "    # Create list of lists containing trigrams in tweets\n",
    "    terms_trigram = [list(trigrams(tweet)) for tweet in words]\n",
    "    trigram = list(itertools.chain(*terms_trigram))\n",
    "    # Create counter of words in clean trigram\n",
    "    trigram_counts = collections.Counter(trigram)\n",
    "    print(\"trigrams\")\n",
    "    print(trigram_counts.most_common(20))\n"
   ],
   "metadata": {
    "collapsed": false,
    "pycharm": {
     "name": "#%%\n"
    }
   }
  }
 ],
 "metadata": {
  "kernelspec": {
   "display_name": "Python 3",
   "language": "python",
   "name": "python3"
  },
  "language_info": {
   "codemirror_mode": {
    "name": "ipython",
    "version": 2
   },
   "file_extension": ".py",
   "mimetype": "text/x-python",
   "name": "python",
   "nbconvert_exporter": "python",
   "pygments_lexer": "ipython2",
   "version": "2.7.6"
  }
 },
 "nbformat": 4,
 "nbformat_minor": 0
}