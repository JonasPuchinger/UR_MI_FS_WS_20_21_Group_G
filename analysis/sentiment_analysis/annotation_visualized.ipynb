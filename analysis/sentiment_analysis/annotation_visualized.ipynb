{
 "cells": [
  {
   "cell_type": "code",
   "execution_count": 16,
   "metadata": {
    "collapsed": true
   },
   "outputs": [],
   "source": [
    "import seaborn as sns\n",
    "import matplotlib.pyplot as plt\n",
    "import pandas as pd\n",
    "from cycler import cycler"
   ]
  },
  {
   "cell_type": "markdown",
   "source": [
    "# Prepare data"
   ],
   "metadata": {
    "collapsed": false
   }
  },
  {
   "cell_type": "code",
   "execution_count": 17,
   "outputs": [],
   "source": [
    "# Prepare data: COVID-tweets\n",
    "df_covid_tweets_annotation = pd.read_csv('../dataset_description/annotation/covid_tweets_annotation.csv')\n",
    "df_covid_tweets_annotation  = df_covid_tweets_annotation.copy()\n",
    "df_covid_tweets_annotation  = df_covid_tweets_annotation .drop(['tweet_id', 'tweet_content', 'annotation_qualifier'], axis='columns')\n",
    "\n",
    "df_popular_covid_tweets = pd.read_json('../dataset_description/most_popular_covid_tweets.json')\n",
    "df_popular_covid_tweets = df_popular_covid_tweets.drop(['screen_name', 'p_user_id', 'tweet'], axis='columns')\n",
    "\n",
    "df_covid = df_popular_covid_tweets.join(df_covid_tweets_annotation)\n",
    "\n",
    "df_covid_sentiment = df_covid.copy()\n",
    "df_covid_sentiment = df_covid_sentiment.drop(['annotation_emotion'], axis='columns')\n",
    "df_covid_sentiment = df_covid_sentiment.rename(columns={'annotation_sentiment': 'sentiment'})\n",
    "\n",
    "df_covid_emotion = df_covid.copy()\n",
    "df_covid_emotion = df_covid_emotion.drop(['annotation_sentiment'], axis='columns')\n",
    "df_covid_emotion = df_covid_emotion.rename(columns={'annotation_emotion': 'emotion'})\n",
    "\n",
    "# Prepare data: non-COVID-tweets\n",
    "df_non_covid_tweets_annotation = pd.read_csv('../dataset_description/annotation/non_covid_tweets_annotation.csv')\n",
    "df_non_covid_tweets_annotation  = df_non_covid_tweets_annotation.copy()\n",
    "df_non_covid_tweets_annotation  = df_non_covid_tweets_annotation.drop(['tweet_id', 'tweet_content'], axis='columns')\n",
    "\n",
    "df_popular_non_covid_tweets = pd.read_json('../dataset_description/most_popular_non_covid_tweets.json')\n",
    "df_popular_non_covid_tweets = df_popular_non_covid_tweets.drop(['screen_name', 'p_user_id', 'tweet'], axis='columns')\n",
    "\n",
    "df_non_covid = df_popular_non_covid_tweets.join(df_non_covid_tweets_annotation)\n",
    "\n",
    "df_non_covid_sentiment = df_non_covid.copy()\n",
    "df_non_covid_sentiment = df_non_covid_sentiment.drop(['annotation_emotion'], axis='columns')\n",
    "df_non_covid_sentiment = df_non_covid_sentiment.rename(columns={'annotation_sentiment': 'sentiment'})\n",
    "\n",
    "df_non_covid_emotion = df_non_covid.copy()\n",
    "df_non_covid_emotion = df_non_covid_emotion.drop(['annotation_sentiment'], axis='columns')\n",
    "df_non_covid_emotion = df_non_covid_emotion.rename(columns={'annotation_emotion': 'emotion'})"
   ],
   "metadata": {
    "collapsed": false,
    "pycharm": {
     "name": "#%%\n"
    }
   }
  },
  {
   "cell_type": "markdown",
   "source": [
    "# Evaluation of the qualitative sentiment analysis: COVID-tweets"
   ],
   "metadata": {
    "collapsed": false
   }
  },
  {
   "cell_type": "code",
   "execution_count": 18,
   "outputs": [
    {
     "name": "stdout",
     "output_type": "stream",
     "text": [
      "Number of COVID-tweets by category (positive > 0, neutral = 0, negative < 0)\n",
      "           count\n",
      "sentiment       \n",
      "negative      77\n",
      "neutral       20\n",
      "positive      23\n",
      "Number of COVID-tweets by category (positive > 0, neutral = 0, negative < 0) and party\n",
      "                                 count\n",
      "sentiment party                       \n",
      "negative  AfD                       14\n",
      "          Bündnis 90/Die Grünen      8\n",
      "          CDU                        6\n",
      "          CSU                        4\n",
      "          Die Linke                 13\n",
      "          FDP                        5\n",
      "          Fraktionslos              15\n",
      "          SPD                       12\n",
      "neutral   Bündnis 90/Die Grünen      1\n",
      "          CDU                        6\n",
      "          CSU                        7\n",
      "          Die Linke                  1\n",
      "          FDP                        5\n",
      "positive  AfD                        1\n",
      "          Bündnis 90/Die Grünen      6\n",
      "          CDU                        3\n",
      "          CSU                        4\n",
      "          Die Linke                  1\n",
      "          FDP                        5\n",
      "          SPD                        3\n"
     ]
    }
   ],
   "source": [
    "df_sentiment_overview = df_covid_sentiment.copy()\n",
    "df_sentiment_overview = df_sentiment_overview.groupby('sentiment').count()\n",
    "df_sentiment_overview = df_sentiment_overview.drop(['name'], axis='columns')\n",
    "df_sentiment_overview = df_sentiment_overview.rename(columns={'party': 'count'})\n",
    "print(\"Number of COVID-tweets by category (positive > 0, neutral = 0, negative < 0)\")\n",
    "print(df_sentiment_overview)\n",
    "\n",
    "df_sentiment_per_party = df_covid_sentiment.copy()\n",
    "df_sentiment_per_party = df_sentiment_per_party.groupby(['sentiment', 'party']).count()\n",
    "df_sentiment_per_party = df_sentiment_per_party.rename(columns={'name': 'count'})\n",
    "print(\"Number of COVID-tweets by category (positive > 0, neutral = 0, negative < 0) and party\")\n",
    "print(df_sentiment_per_party)"
   ],
   "metadata": {
    "collapsed": false,
    "pycharm": {
     "name": "#%%\n"
    }
   }
  },
  {
   "cell_type": "markdown",
   "source": [
    "# # Evaluation of the qualitative emotion analysis: COVID-tweets"
   ],
   "metadata": {
    "collapsed": false
   }
  },
  {
   "cell_type": "code",
   "execution_count": 19,
   "outputs": [
    {
     "name": "stdout",
     "output_type": "stream",
     "text": [
      "Number of COVID-tweets by emotion\n",
      "              count\n",
      "emotion            \n",
      "anger            34\n",
      "anticipation     15\n",
      "disgust          28\n",
      "fear             11\n",
      "joy               4\n",
      "sadness           8\n",
      "surprise          2\n",
      "trust            18\n",
      "Number of COVID-tweets by emotion and party\n",
      "                                    count\n",
      "emotion      party                       \n",
      "anger        AfD                        6\n",
      "             Bündnis 90/Die Grünen      3\n",
      "             CDU                        4\n",
      "             Die Linke                  5\n",
      "             FDP                        1\n",
      "             Fraktionslos              13\n",
      "             SPD                        2\n",
      "anticipation AfD                        1\n",
      "             Bündnis 90/Die Grünen      3\n",
      "             CDU                        3\n",
      "             CSU                        2\n",
      "             Die Linke                  1\n",
      "             FDP                        4\n",
      "             SPD                        1\n",
      "disgust      AfD                        8\n",
      "             Bündnis 90/Die Grünen      4\n",
      "             CDU                        1\n",
      "             CSU                        1\n",
      "             Die Linke                  5\n",
      "             FDP                        3\n",
      "             Fraktionslos               1\n",
      "             SPD                        5\n",
      "fear         Bündnis 90/Die Grünen      2\n",
      "             CSU                        5\n",
      "             Die Linke                  2\n",
      "             Fraktionslos               1\n",
      "             SPD                        1\n",
      "joy          Bündnis 90/Die Grünen      1\n",
      "             CSU                        1\n",
      "             Die Linke                  1\n",
      "             SPD                        1\n",
      "sadness      CDU                        2\n",
      "             Die Linke                  1\n",
      "             FDP                        1\n",
      "             SPD                        4\n",
      "surprise     CSU                        1\n",
      "             FDP                        1\n",
      "trust        Bündnis 90/Die Grünen      2\n",
      "             CDU                        5\n",
      "             CSU                        5\n",
      "             FDP                        5\n",
      "             SPD                        1\n"
     ]
    },
    {
     "data": {
      "text/plain": "<Figure size 432x288 with 1 Axes>",
      "image/png": "[encoded data removed]"
     },
     "metadata": {},
     "output_type": "display_data"
    }
   ],
   "source": [
    "df_emotion_overview = df_covid_emotion.copy()\n",
    "df_emotion_overview = df_emotion_overview.groupby('emotion').count()\n",
    "df_emotion_overview = df_emotion_overview.drop(['name'], axis='columns')\n",
    "df_emotion_overview = df_emotion_overview.rename(columns={'party': 'count'})\n",
    "print(\"Number of COVID-tweets by emotion\")\n",
    "print(df_emotion_overview)\n",
    "\n",
    "df_emotion_per_party = df_covid_emotion.copy()\n",
    "df_emotion_per_party = df_emotion_per_party.groupby(['emotion', 'party']).count()\n",
    "df_emotion_per_party = df_emotion_per_party.rename(columns={'name': 'count'})\n",
    "print(\"Number of COVID-tweets by emotion and party\")\n",
    "print(df_emotion_per_party)\n",
    "\n",
    "# Stacked bar chart\n",
    "fig, ax = plt.subplots(tight_layout=True)\n",
    "r = [0,1,2,3,4,5,6,7]\n",
    "\n",
    "df_covid_emotion_stacked = df_covid_emotion.copy()\n",
    "stacked = (df_covid_emotion_stacked['emotion'].value_counts(sort= True, ascending=False)).index.to_list()\n",
    "df = df_covid_emotion_stacked.groupby(['party'])['emotion'].value_counts(sort=True, ascending=False).unstack().fillna(0)\n",
    "\n",
    "# From raw value to percentage\n",
    "totals = [i+j+k+l+m+n+o+p for i,j,k,l,m,n,o,p in zip(df['anger'], df['anticipation'], df['disgust'], df['fear'], df['joy'], df['sadness'], df['surprise'], df['trust'])]\n",
    "anger = [i / j * 100 for i,j in zip(df['anger'], totals)]\n",
    "anticipation = [i / j * 100 for i,j in zip(df['anticipation'], totals)]\n",
    "disgust = [i / j * 100 for i,j in zip(df['disgust'], totals)]\n",
    "fear = [i / j * 100 for i,j in zip(df['fear'], totals)]\n",
    "joy = [i / j * 100 for i,j in zip(df['joy'], totals)]\n",
    "sadness = [i / j * 100 for i,j in zip(df['sadness'], totals)]\n",
    "surprise = [i / j * 100 for i,j in zip(df['surprise'], totals)]\n",
    "trust = [i / j * 100 for i,j in zip(df['trust'], totals)]\n",
    "\n",
    "# plot\n",
    "barWidth = 0.85\n",
    "names = ('AfD','Die\\nGrünen','CDU','CSU','Die\\nLinke', 'FDP', 'Frak-\\ntions-\\nlos', 'SPD')\n",
    "\n",
    "plt.bar(r, anger, width=barWidth, color='dimgray', label='anger')\n",
    "plt.bar(r, anticipation, bottom=anger, width=barWidth, color='orange', label='anticipation')\n",
    "plt.bar(r, disgust, bottom=[i+j for i,j in zip(anger, anticipation)], width=barWidth, color='skyblue', label='disgust')\n",
    "plt.bar(r, fear, bottom=[i+j+k for i,j,k in zip(anger, anticipation, disgust)], width=barWidth, color='lightseagreen', label='fear')\n",
    "plt.bar(r, joy, bottom=[i+j+k+l for i,j,k,l in zip(anger, anticipation, disgust, fear)], width=barWidth, color='gold', label='joy')\n",
    "plt.bar(r, sadness, bottom=[i+j+k+l+m for i,j,k,l,m in zip(anger, anticipation, disgust, fear, joy)], width=barWidth, color='royalblue', label='sadness')\n",
    "plt.bar(r, surprise, bottom=[i+j+k+l+m+n for i,j,k,l,m,n in zip(anger, anticipation, disgust, fear, joy, sadness)],  color='orangered', width=barWidth, label='surprise')\n",
    "plt.bar(r, trust, bottom=[i+j+k+l+m+n+o for i,j,k,l,m,n,o in zip(anger, anticipation, disgust, fear, joy, sadness, surprise)],  color='plum', width=barWidth, label='trust')\n",
    "\n",
    "colors = ['olive', 'tomato', 'teal', 'peru', 'violet', 'gray', 'limegreen','cornflowerblue']\n",
    "plt.gca().set_prop_cycle(cycler('color', colors))\n",
    "plt.xticks(r, names)\n",
    "handles, labels = plt.gca().get_legend_handles_labels()\n",
    "order = [7,6,5,4,3,2,1,0]\n",
    "plt.legend([handles[idx] for idx in order],[labels[idx] for idx in order], loc='upper left', bbox_to_anchor=(1,1), ncol=1, labelspacing=0.8, handlelength=2.2, prop={'size': 12, 'weight': 'roman'}, frameon=True)\n",
    "\n",
    "plt.tick_params(axis='y', labelsize=9)\n",
    "plt.tick_params(axis='x', labelsize=9)\n",
    "plt.gca().spines['top'].set_visible(False)\n",
    "plt.gca().spines['right'].set_visible(False)\n",
    "plt.gca().spines['bottom'].set_visible(True)\n",
    "plt.gca().spines['left'].set_visible(False)\n",
    "sns.set_theme(style=\"whitegrid\")\n",
    "vals = ax.get_yticks()\n",
    "plt.show()"
   ],
   "metadata": {
    "collapsed": false,
    "pycharm": {
     "name": "#%%\n"
    }
   }
  },
  {
   "cell_type": "markdown",
   "source": [
    "# Evaluation of the qualitative sentiment analysis: non-COVID-tweets"
   ],
   "metadata": {
    "collapsed": false
   }
  },
  {
   "cell_type": "code",
   "execution_count": 20,
   "outputs": [
    {
     "name": "stdout",
     "output_type": "stream",
     "text": [
      "Number of non-COVID-tweets by category (positive > 0, neutral = 0, negative < 0)\n",
      "           count\n",
      "sentiment       \n",
      "negative      88\n",
      "neutral       10\n",
      "positive      22\n",
      "Number of non-COVID-tweets by category (positive > 0, neutral = 0, negative < 0) and party\n",
      "                                 count\n",
      "sentiment party                       \n",
      "negative  AfD                       14\n",
      "          Bündnis 90/Die Grünen     12\n",
      "          CDU                        8\n",
      "          CSU                        9\n",
      "          Die Linke                 14\n",
      "          FDP                        8\n",
      "          Fraktionslos              13\n",
      "          SPD                       10\n",
      "neutral   Bündnis 90/Die Grünen      3\n",
      "          CDU                        4\n",
      "          CSU                        1\n",
      "          FDP                        2\n",
      "positive  AfD                        1\n",
      "          CDU                        3\n",
      "          CSU                        5\n",
      "          Die Linke                  1\n",
      "          FDP                        5\n",
      "          Fraktionslos               2\n",
      "          SPD                        5\n"
     ]
    }
   ],
   "source": [
    "df_non_sentiment_overview = df_non_covid_sentiment.copy()\n",
    "df_non_sentiment_overview = df_non_sentiment_overview.groupby('sentiment').count()\n",
    "df_non_sentiment_overview = df_non_sentiment_overview.drop(['name'], axis='columns')\n",
    "df_non_sentiment_overview = df_non_sentiment_overview.rename(columns={'party': 'count'})\n",
    "print(\"Number of non-COVID-tweets by category (positive > 0, neutral = 0, negative < 0)\")\n",
    "print(df_non_sentiment_overview)\n",
    "\n",
    "df_non_sentiment_per_party = df_non_covid_sentiment.copy()\n",
    "df_non_sentiment_per_party = df_non_sentiment_per_party.groupby(['sentiment', 'party']).count()\n",
    "df_non_sentiment_per_party = df_non_sentiment_per_party.rename(columns={'name': 'count'})\n",
    "print(\"Number of non-COVID-tweets by category (positive > 0, neutral = 0, negative < 0) and party\")\n",
    "print(df_non_sentiment_per_party)"
   ],
   "metadata": {
    "collapsed": false,
    "pycharm": {
     "name": "#%%\n"
    }
   }
  },
  {
   "cell_type": "markdown",
   "source": [
    "# Evaluation of the qualitative emotion analysis: non-COVID-tweets"
   ],
   "metadata": {
    "collapsed": false
   }
  },
  {
   "cell_type": "code",
   "execution_count": 21,
   "outputs": [
    {
     "name": "stdout",
     "output_type": "stream",
     "text": [
      "Number of non-COVID-tweets by emotion\n",
      "              count\n",
      "emotion            \n",
      "anger            50\n",
      "anticipation      6\n",
      "disgust          26\n",
      "fear              3\n",
      "joy               8\n",
      "sadness           8\n",
      "surprise          1\n",
      "trust            18\n",
      "Number of non-COVID-tweets by emotion and party\n",
      "                                    count\n",
      "emotion      party                       \n",
      "anger        AfD                       11\n",
      "             Bündnis 90/Die Grünen      5\n",
      "             CDU                        3\n",
      "             CSU                        7\n",
      "             Die Linke                  4\n",
      "             FDP                        7\n",
      "             Fraktionslos              10\n",
      "             SPD                        3\n",
      "anticipation AfD                        1\n",
      "             CDU                        1\n",
      "             CSU                        1\n",
      "             FDP                        1\n",
      "             Fraktionslos               1\n",
      "             SPD                        1\n",
      "disgust      AfD                        2\n",
      "             Bündnis 90/Die Grünen      4\n",
      "             CDU                        3\n",
      "             CSU                        2\n",
      "             Die Linke                 10\n",
      "             FDP                        1\n",
      "             SPD                        4\n",
      "fear         Bündnis 90/Die Grünen      1\n",
      "             CDU                        1\n",
      "             Fraktionslos               1\n",
      "joy          AfD                        1\n",
      "             CSU                        1\n",
      "             FDP                        1\n",
      "             Fraktionslos               2\n",
      "             SPD                        3\n",
      "sadness      Bündnis 90/Die Grünen      2\n",
      "             CDU                        1\n",
      "             FDP                        2\n",
      "             Fraktionslos               1\n",
      "             SPD                        2\n",
      "surprise     Die Linke                  1\n",
      "trust        Bündnis 90/Die Grünen      3\n",
      "             CDU                        6\n",
      "             CSU                        4\n",
      "             FDP                        3\n",
      "             SPD                        2\n"
     ]
    },
    {
     "name": "stderr",
     "output_type": "stream",
     "text": [
      "<ipython-input-21-8df08f595e07>:51: UserWarning: FixedFormatter should only be used together with FixedLocator\n",
      "  plt.gca().set_yticklabels(['{:.0f}%'.format(x) for x in plt.gca().get_yticks()])\n"
     ]
    },
    {
     "data": {
      "text/plain": "<Figure size 432x288 with 1 Axes>",
      "image/png": "[encoded data removed]"
     },
     "metadata": {},
     "output_type": "display_data"
    }
   ],
   "source": [
    "df_non_emotion_overview = df_non_covid_emotion.copy()\n",
    "df_non_emotion_overview = df_non_emotion_overview.groupby('emotion').count()\n",
    "df_non_emotion_overview = df_non_emotion_overview.drop(['name'], axis='columns')\n",
    "df_non_emotion_overview = df_non_emotion_overview.rename(columns={'party': 'count'})\n",
    "print(\"Number of non-COVID-tweets by emotion\")\n",
    "print(df_non_emotion_overview)\n",
    "\n",
    "df_non_emotion_per_party = df_non_covid_emotion.copy()\n",
    "df_non_emotion_per_party = df_non_emotion_per_party.groupby(['emotion', 'party']).count()\n",
    "df_non_emotion_per_party = df_non_emotion_per_party.rename(columns={'name': 'count'})\n",
    "print(\"Number of non-COVID-tweets by emotion and party\")\n",
    "print(df_non_emotion_per_party)\n",
    "\n",
    "# Stacked bar chart\n",
    "fig, ax = plt.subplots()\n",
    "r = [0,1,2,3,4,5,6,7]\n",
    "\n",
    "df_covid_emotion_stacked = df_non_covid_emotion.copy()\n",
    "stacked = (df_covid_emotion_stacked['emotion'].value_counts(sort= True, ascending=False)).index.to_list()\n",
    "df = df_covid_emotion_stacked.groupby(['party'])['emotion'].value_counts(sort=True, ascending=False).unstack().fillna(0)\n",
    "\n",
    "# From raw value to percentage\n",
    "totals = [i+j+k+l+m+n+o+p for i,j,k,l,m,n,o,p in zip(df['anger'], df['anticipation'], df['disgust'], df['fear'], df['joy'], df['sadness'], df['surprise'], df['trust'])]\n",
    "anger = [i / j * 100 for i,j in zip(df['anger'], totals)]\n",
    "anticipation = [i / j * 100 for i,j in zip(df['anticipation'], totals)]\n",
    "disgust = [i / j * 100 for i,j in zip(df['disgust'], totals)]\n",
    "fear = [i / j * 100 for i,j in zip(df['fear'], totals)]\n",
    "joy = [i / j * 100 for i,j in zip(df['joy'], totals)]\n",
    "sadness = [i / j * 100 for i,j in zip(df['sadness'], totals)]\n",
    "surprise = [i / j * 100 for i,j in zip(df['surprise'], totals)]\n",
    "trust = [i / j * 100 for i,j in zip(df['trust'], totals)]\n",
    "\n",
    "# plot\n",
    "barWidth = 0.85\n",
    "names = ('AfD','Die\\nGrünen','CDU','CSU','Die\\nLinke', 'FDP', 'Fraktions-\\nlos', 'SPD')\n",
    "plt.bar(r, anger, width=barWidth, color='cadetblue', label='anger')\n",
    "plt.bar(r, anticipation, bottom=anger, width=barWidth, color='brown', label='anticipation')\n",
    "plt.bar(r, disgust, bottom=[i+j for i,j in zip(anger, anticipation)], width=barWidth, color='darkorange', label='disgust')\n",
    "plt.bar(r, fear, bottom=[i+j+k for i,j,k in zip(anger, anticipation, disgust)], width=barWidth, color='sienna', label='fear')\n",
    "plt.bar(r, joy, bottom=[i+j+k+l for i,j,k,l in zip(anger, anticipation, disgust, fear)], width=barWidth, color='slateblue', label='joy')\n",
    "plt.bar(r, sadness, bottom=[i+j+k+l+m for i,j,k,l,m in zip(anger, anticipation, disgust, fear, joy)], width=barWidth, color='black', label='sadness')\n",
    "plt.bar(r, surprise, bottom=[i+j+k+l+m+n for i,j,k,l,m,n in zip(anger, anticipation, disgust, fear, joy, sadness)],  color='mediumseagreen', width=barWidth, label='surprise')\n",
    "plt.bar(r, trust, bottom=[i+j+k+l+m+n+o for i,j,k,l,m,n,o in zip(anger, anticipation, disgust, fear, joy, sadness, surprise)],  color='lightcoral', width=barWidth, label='trust')\n",
    "\n",
    "\n",
    "colors = ['darkcyan', 'sienna', 'khaki', 'darkgreen', 'slateblue', 'lightcoral']\n",
    "plt.gca().set_prop_cycle(cycler('color', colors))\n",
    "plt.xticks(r, names)\n",
    "plt.xlabel(\"Parties\")\n",
    "plt.legend(loc='upper left', bbox_to_anchor=(1,1), ncol=1)\n",
    "plt.gca().set_yticklabels(['{:.0f}%'.format(x) for x in plt.gca().get_yticks()])\n",
    "vals = ax.get_yticks()\n",
    "plt.show()\n",
    "\n"
   ],
   "metadata": {
    "collapsed": false,
    "pycharm": {
     "name": "#%%\n"
    }
   }
  }
 ],
 "metadata": {
  "kernelspec": {
   "display_name": "Python 3",
   "language": "python",
   "name": "python3"
  },
  "language_info": {
   "codemirror_mode": {
    "name": "ipython",
    "version": 2
   },
   "file_extension": ".py",
   "mimetype": "text/x-python",
   "name": "python",
   "nbconvert_exporter": "python",
   "pygments_lexer": "ipython2",
   "version": "2.7.6"
  }
 },
 "nbformat": 4,
 "nbformat_minor": 0
}